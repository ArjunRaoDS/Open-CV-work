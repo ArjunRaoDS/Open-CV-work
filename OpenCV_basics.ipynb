{
 "cells": [
  {
   "cell_type": "code",
   "execution_count": 1,
   "metadata": {},
   "outputs": [],
   "source": [
    "import cv2"
   ]
  },
  {
   "cell_type": "code",
   "execution_count": 2,
   "metadata": {},
   "outputs": [],
   "source": [
    "#Load image using \"imread\"\n",
    "input=cv2.imread(\"C:/Users/Arjun Rao/Desktop/cat.jpg\")\n",
    "\n",
    "#Display image variable\n",
    "cv2.imshow(\"Image Window\",input)\n",
    "\n",
    "#Wait key to specify time ,by placing a number(except 0),we can specify delay for how long you keep the window open-time\n",
    "# No delay means we need to press a key to open the image window\n",
    "cv2.waitKey(0)\n",
    "\n",
    "#To close all windows before opening image window , it prevents the sytem from hanging\n",
    "cv2.destroyAllWindows()"
   ]
  },
  {
   "cell_type": "code",
   "execution_count": 3,
   "metadata": {},
   "outputs": [],
   "source": [
    "import numpy as np"
   ]
  },
  {
   "cell_type": "code",
   "execution_count": 4,
   "metadata": {},
   "outputs": [
    {
     "name": "stdout",
     "output_type": "stream",
     "text": [
      "(190, 265, 3)\n"
     ]
    }
   ],
   "source": [
    "print(input.shape)"
   ]
  },
  {
   "cell_type": "code",
   "execution_count": 5,
   "metadata": {},
   "outputs": [
    {
     "name": "stdout",
     "output_type": "stream",
     "text": [
      "Height of image is  190 pixels\n",
      "Width of image is  265 pixels\n"
     ]
    }
   ],
   "source": [
    "print('Height of image is ',int(input.shape[0]),'pixels')\n",
    "print('Width of image is ',int(input.shape[1]),'pixels')"
   ]
  },
  {
   "cell_type": "code",
   "execution_count": 6,
   "metadata": {},
   "outputs": [
    {
     "data": {
      "text/plain": [
       "True"
      ]
     },
     "execution_count": 6,
     "metadata": {},
     "output_type": "execute_result"
    }
   ],
   "source": [
    "#saving image after editing in cv2\n",
    "cv2.imwrite('output.jpg',input)"
   ]
  },
  {
   "cell_type": "code",
   "execution_count": 7,
   "metadata": {},
   "outputs": [],
   "source": [
    "# Converting a image to grayscale \n",
    "\n",
    "image=cv2.imread('C:/Users/Arjun Rao/Desktop/cat.jpg')\n",
    "cv2.imshow('Original',image)\n",
    "cv2.waitKey()\n",
    "\n",
    "gray_image=cv2.cvtColor(image,cv2.COLOR_BGR2GRAY)\n",
    "cv2.imshow('Grayscale',gray_image)\n",
    "cv2.waitKey()\n",
    "cv2.destroyAllWindows()"
   ]
  },
  {
   "cell_type": "code",
   "execution_count": 8,
   "metadata": {},
   "outputs": [
    {
     "data": {
      "text/plain": [
       "0"
      ]
     },
     "execution_count": 8,
     "metadata": {},
     "output_type": "execute_result"
    }
   ],
   "source": [
    "#Another method to grayscale image is \n",
    "image=cv2.imread('C:/Users/Arjun Rao/Desktop/cat.jpg',0)   # can put 1 here to get the original image\n",
    "cv2.imshow('Grayscale',image)\n",
    "cv2.waitKey()"
   ]
  },
  {
   "cell_type": "code",
   "execution_count": 10,
   "metadata": {},
   "outputs": [],
   "source": [
    "#Edge detection and gradients\n",
    "\n",
    "image=cv2.imread('C:/Users/Arjun Rao/Desktop/cat.jpg',0)\n",
    "height,width=image.shape\n",
    "\n",
    "#Sobel edges\n",
    "sobel_x=cv2.Sobel(image,cv2.CV_64F,0,1,ksize=5)\n",
    "sobel_y=cv2.Sobel(image,cv2.CV_64F,1,0,ksize=5)\n",
    "\n",
    "cv2.imshow('Original',image)\n",
    "cv2.waitKey()\n",
    "cv2.imshow('Sobel X',sobel_x)\n",
    "cv2.waitKey()\n",
    "cv2.imshow('Soble Y',sobel_y)\n",
    "cv2.waitKey()\n",
    "\n",
    "sobel_or=cv2.bitwise_or(sobel_x,sobel_y)\n",
    "cv2.imshow('Sobel OR',sobel_or)\n",
    "cv2.waitKey()\n",
    "\n",
    "laplacian=cv2.Laplacian(image, cv2.CV_64F)\n",
    "cv2.imshow('Laplacian',laplacian)\n",
    "cv2.waitKey()\n",
    "\n",
    "\n",
    "#canny edge detection(primarily used)\n",
    "#we need to provide two values, thresold 1 and thresold 2, any gradient value large than thresold 2 will considered as edge \n",
    "#where as any gradient value lesser than thresold 1 is considered as non-edge, values between these thresold either be edge\n",
    "#or non-edge depends upon how their \"intensities\" are connected\n",
    "\n",
    "#In this case values larger than 120 considered as edge where as values smaller than 60 as non-edges\n",
    "canny=cv2.Canny(image,60,120)\n",
    "cv2.imshow('Canny',canny)\n",
    "cv2.waitKey()\n",
    "\n",
    "\n",
    "cv2.destroyAllWindows()"
   ]
  },
  {
   "cell_type": "code",
   "execution_count": 11,
   "metadata": {},
   "outputs": [],
   "source": [
    "#Transalations\n",
    "#This is affine transform that simpy shifts the position of an image\n",
    "# we use cv2.warpAffine to implement transalations\n",
    "\n",
    "image=cv2.imread('C:/Users/Arjun Rao/Desktop/cat.jpg',)\n",
    "height,width=image.shape[:2]\n",
    "quarter_heigth,quarter_width=height/4,width/4\n",
    "\n",
    "#      / 1  0  Tx/\n",
    "#  T = / 0   1 Ty/\n",
    "\n",
    "T=np.float32([[1,0,quarter_width],[0,1,quarter_heigth]])\n",
    "\n",
    "img_translation=cv2.warpAffine(image,T,(width,height))\n",
    "cv2.imshow('Transaltion',img_translation)\n",
    "cv2.waitKey()\n",
    "\n",
    "\n",
    "cv2.destroyAllWindows()\n",
    "\n"
   ]
  },
  {
   "cell_type": "code",
   "execution_count": 12,
   "metadata": {},
   "outputs": [],
   "source": [
    "# Rotations\n",
    "#cv2.getRotationMatrix2D(rotation_center_x,rotation_center_y,angle_of_rotation,scale)\n",
    "\n",
    "image=cv2.imread('C:/Users/Arjun Rao/Desktop/cat.jpg',)\n",
    "height,width=image.shape[:2]\n",
    "\n",
    "#Divide by 2 to rotate the image around its centre\n",
    "rotation_matrix=cv2.getRotationMatrix2D((width/2,height/2),45,.5)\n",
    "\n",
    "rotated_image=cv2.warpAffine(image,rotation_matrix,(width,height))\n",
    "cv2.imshow('Rotated Image',rotated_image)\n",
    "cv2.waitKey()\n",
    "\n",
    "\n",
    "cv2.destroyAllWindows()\n",
    "\n"
   ]
  },
  {
   "cell_type": "code",
   "execution_count": 13,
   "metadata": {},
   "outputs": [],
   "source": [
    "#Horizontal flip\n",
    "flipped=cv2.flip(image,1)\n",
    "cv2.imshow('Flipped',flipped)\n",
    "cv2.waitKey()\n",
    "\n",
    "\n",
    "cv2.destroyAllWindows()\n"
   ]
  },
  {
   "cell_type": "code",
   "execution_count": 14,
   "metadata": {},
   "outputs": [],
   "source": [
    "#Scaling,interpolation,re-sizing\n",
    "\n",
    "image=cv2.imread('C:/Users/Arjun Rao/Desktop/cat.jpg',)\n",
    "height,width=image.shape[:2]\n",
    "\n",
    "#make image 3/4 of original size\n",
    "image_scaled=cv2.resize(image,None, fx=0.75,fy=0.75)\n",
    "cv2.imshow('Scaled-Linear Interpolation',image_scaled)\n",
    "cv2.waitKey()\n",
    "\n",
    "#make image double of original size\n",
    "image_scaled=cv2.resize(image,None, fx=2,fy=2,interpolation= cv2.INTER_CUBIC)\n",
    "cv2.imshow('Scaled-Cubic Interpolation',image_scaled)\n",
    "cv2.waitKey()\n",
    "\n",
    "#make image skew by resizing of original size\n",
    "image_scaled=cv2.resize(image,(700,400),interpolation= cv2.INTER_AREA)\n",
    "cv2.imshow('Scaled-Skewed size',image_scaled)\n",
    "cv2.waitKey()\n",
    "\n",
    "cv2.destroyAllWindows()\n",
    "\n",
    "\n"
   ]
  },
  {
   "cell_type": "code",
   "execution_count": 16,
   "metadata": {},
   "outputs": [],
   "source": [
    "#Image Pyramids\n",
    "#Useful when scaling images is object detection\n",
    "\n",
    "image=cv2.imread('C:/Users/Arjun Rao/Desktop/cat.jpg',)\n",
    "\n",
    "smaller=cv2.pyrDown(image)\n",
    "larger=cv2.pyrUp(smaller)\n",
    "cv2.imshow('Original',image)\n",
    "cv2.imshow('Smaller',smaller)\n",
    "cv2.imshow('Larger',larger)\n",
    "cv2.waitKey(0)\n",
    "cv2.destroyAllWindows()\n",
    "\n"
   ]
  },
  {
   "cell_type": "code",
   "execution_count": 17,
   "metadata": {},
   "outputs": [],
   "source": [
    "#Cropping\n",
    "image=cv2.imread('C:/Users/Arjun Rao/Desktop/cat.jpg',)\n",
    "height,width=image.shape[:2]\n",
    "\n",
    "#starting coordinate pixels(top left of cropping rectangle)\n",
    "start_row,start_col=int(height*0.25),int(width*0.25)\n",
    "\n",
    "#Ending coordinate pixels(bottom right)\n",
    "end_row,end_col=int(height*0.75),int(width*0.75)\n",
    "\n",
    "#using Indexing to crop out the rectangle we want\n",
    "cropped=image[start_row:end_row,start_col:end_col]\n",
    "cv2.imshow('Original',image)\n",
    "cv2.waitKey(0)\n",
    "cv2.imshow('Cropped',cropped)\n",
    "cv2.waitKey(0)\n",
    "cv2.destroyAllWindows()\n",
    "\n"
   ]
  },
  {
   "cell_type": "code",
   "execution_count": 19,
   "metadata": {},
   "outputs": [],
   "source": [
    "#Arithmatic operations\n",
    "#Simple operators to add or subtract to the color intensity---Brightness\n",
    "\n",
    "image=cv2.imread('C:/Users/Arjun Rao/Desktop/cat.jpg',)\n",
    "#creating a matrix of ones, then multiply it with by scalar of 100\n",
    "#this give matrix with same dimensions of our image with all values being 100\n",
    "M= np.ones(image.shape,dtype='uint8')*75\n",
    "cv2.imshow('Original',image)\n",
    "\n",
    "#we need to add this matrix to our image\n",
    "added=cv2.add(image,M)\n",
    "cv2.imshow(\"Added\",added)\n",
    "\n",
    "# we can also subtract\n",
    "sub=cv2.subtract(image,M)\n",
    "cv2.imshow(\"Subtract\",sub)\n",
    "cv2.waitKey(0)\n",
    "cv2.destroyAllWindows()\n"
   ]
  },
  {
   "cell_type": "code",
   "execution_count": 20,
   "metadata": {},
   "outputs": [],
   "source": [
    "#Sharpening\n",
    "#By alternation our kernels we can implement sharpening\n",
    "\n",
    "image=cv2.imread('C:/Users/Arjun Rao/Desktop/cat.jpg',)\n",
    "cv2.imshow('Original',image)\n",
    "\n",
    "kernel_sarpening=np.array([[-1,-1,-1],\n",
    "                           [-1,10,-1],      #it can be 9,8 as per required sharpness\n",
    "                           [-1,-1,-1]])\n",
    "sharpened=cv2.filter2D(image,-1,kernel_sarpening)\n",
    "cv2.imshow(\"Sharpened\",sharpened)\n",
    "cv2.waitKey(0)\n",
    "cv2.destroyAllWindows()\n"
   ]
  },
  {
   "cell_type": "code",
   "execution_count": 21,
   "metadata": {},
   "outputs": [],
   "source": [
    "#Blurring\n",
    "\n",
    "image=cv2.imread('C:/Users/Arjun Rao/Desktop/cat.jpg',)\n",
    "cv2.imshow('Original',image)\n",
    "\n",
    "#creating 3x3 kernel\n",
    "kernel_3x3=np.ones((3,3),np.float32)/9\n",
    "Blurred_3x3=cv2.filter2D(image,-1,kernel_3x3)\n",
    "cv2.imshow(\"blurred 3x3\",Blurred_3x3)\n",
    "cv2.waitKey(0)\n",
    "\n",
    "#creating 7x7 kernel\n",
    "kernel_7x7=np.ones((7,7),np.float32)/49\n",
    "Blurred_7x7=cv2.filter2D(image,-1,kernel_7x7)\n",
    "cv2.imshow(\"blurred 7x7\",Blurred_7x7)\n",
    "cv2.waitKey(0)\n",
    "cv2.destroyAllWindows()"
   ]
  },
  {
   "cell_type": "code",
   "execution_count": 22,
   "metadata": {},
   "outputs": [],
   "source": [
    "image=cv2.imread('C:/Users/Arjun Rao/Desktop/cat.jpg',)\n",
    "cv2.imshow('Original',image)\n",
    "\n",
    "#Averaging done by convolving the image with a normalized box filter.\n",
    "#This takes the pixels under the box and replaces the central element\n",
    "#Box size needs to be odd and positive\n",
    "\n",
    "blur=cv2.blur(image,(3,3))\n",
    "cv2.imshow(\"Box blur\",blur)\n",
    "cv2.waitKey(0)\n",
    "\n",
    "# instead of box,use gaussian kernel\n",
    "Gaussian=cv2.GaussianBlur(image,(7,7),0)\n",
    "cv2.imshow(\"Gaussian\",Gaussian)\n",
    "cv2.waitKey(0)\n",
    "\n",
    "#Take median of all the pixels\n",
    "Median=cv2.medianBlur(image,5)\n",
    "cv2.imshow(\"Median\",Median)\n",
    "cv2.waitKey(0)\n",
    "\n",
    "#Bilateral is very effective in noise removal while keeping edges sharp\n",
    "bilateral=cv2.bilateralFilter(image,9,75,75)\n",
    "cv2.imshow(\"Bilateral\",bilateral)\n",
    "cv2.waitKey(0)\n",
    "cv2.destroyAllWindows()\n",
    "\n",
    "\n",
    "\n"
   ]
  },
  {
   "cell_type": "code",
   "execution_count": null,
   "metadata": {},
   "outputs": [],
   "source": []
  }
 ],
 "metadata": {
  "kernelspec": {
   "display_name": "Python 3",
   "language": "python",
   "name": "python3"
  },
  "language_info": {
   "codemirror_mode": {
    "name": "ipython",
    "version": 3
   },
   "file_extension": ".py",
   "mimetype": "text/x-python",
   "name": "python",
   "nbconvert_exporter": "python",
   "pygments_lexer": "ipython3",
   "version": "3.6.10"
  }
 },
 "nbformat": 4,
 "nbformat_minor": 4
}
