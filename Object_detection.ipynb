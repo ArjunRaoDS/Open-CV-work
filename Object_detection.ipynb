{
 "cells": [
  {
   "cell_type": "markdown",
   "metadata": {},
   "source": [
    "**Face detection**"
   ]
  },
  {
   "cell_type": "code",
   "execution_count": 1,
   "metadata": {},
   "outputs": [],
   "source": [
    "import cv2\n",
    "import time"
   ]
  },
  {
   "cell_type": "code",
   "execution_count": 23,
   "metadata": {},
   "outputs": [
    {
     "data": {
      "text/plain": [
       "<CascadeClassifier 00000000054297B0>"
      ]
     },
     "execution_count": 23,
     "metadata": {},
     "output_type": "execute_result"
    }
   ],
   "source": [
    "#we point cv2 cascadeclassifier function to where our our classifier(XML file)is stored\n",
    "\n",
    "face_classifier=cv2.CascadeClassifier(cv2.data.haarcascades + 'haarcascade_frontalface_default.xml')\n",
    "eye_classifier = cv2.CascadeClassifier(cv2.data.haarcascades + 'haarcascade_eye.xml')"
   ]
  },
  {
   "cell_type": "code",
   "execution_count": 24,
   "metadata": {},
   "outputs": [],
   "source": [
    "image=cv2.imread(\"C:/Users/Arjun Rao/Desktop/modi.jpg\")\n",
    "gray=cv2.cvtColor(image,cv2.COLOR_BGR2GRAY)\n",
    "\n",
    "#Our classifier returns  the ROI of the detected face as a tuple\n",
    "#It stores the top left and bottom right cordinates\n",
    "faces=face_classifier.detectMultiScale(gray,1.3,5)\n",
    "\n",
    "if faces is ():\n",
    "    print(\"No face found\")\n",
    "    \n",
    "#We iterate thorugh our faces array and draw a rectange over each face in faces\n",
    "for(x,y,w,h) in faces:\n",
    "    cv2.rectangle(image,(x,y),(x+w,y+h),(127,0,255),2)\n",
    "    cv2.imshow('Face Detection',image)\n",
    "    cv2.waitKey(0)\n",
    "    \n",
    "cv2.destroyAllWindows()    "
   ]
  },
  {
   "cell_type": "markdown",
   "metadata": {},
   "source": [
    "**Car Detection**"
   ]
  },
  {
   "cell_type": "code",
   "execution_count": 2,
   "metadata": {},
   "outputs": [],
   "source": [
    "car_cascade=cv2.CascadeClassifier(cv2.data.haarcascades + 'haarcascade_car.xml')\n",
    "\n",
    "#Initiate video capture for video file\n",
    "cap=cv2.VideoCapture(\"C:/Users/Arjun Rao/Desktop/cars.mp4\")\n",
    "\n",
    "# loop runs if capturing has been initialized. \n",
    "while True: \n",
    "    # reads frames from a video \n",
    "    ret, frames = cap.read() \n",
    "      \n",
    "    # convert to gray scale of each frames \n",
    "    gray = cv2.cvtColor(frames, cv2.COLOR_BGR2GRAY) \n",
    "      \n",
    "  \n",
    "    # Detects cars of different sizes in the input image \n",
    "    cars = car_cascade.detectMultiScale(gray, 1.1, 1) \n",
    "      \n",
    "    # To draw a rectangle in each cars \n",
    "    for (x,y,w,h) in cars: \n",
    "        cv2.rectangle(frames,(x,y),(x+w,y+h),(0,0,255),2) \n",
    "  \n",
    "   # Display frames in a window  \n",
    "        cv2.imshow('video2', frames) \n",
    "      \n",
    "    # Wait for Esc key to stop \n",
    "    if cv2.waitKey(33) == 27: \n",
    "        break\n",
    "  \n",
    "# De-allocate any associated memory usage \n",
    "cv2.destroyAllWindows() "
   ]
  },
  {
   "cell_type": "code",
   "execution_count": null,
   "metadata": {},
   "outputs": [],
   "source": []
  }
 ],
 "metadata": {
  "kernelspec": {
   "display_name": "Python 3",
   "language": "python",
   "name": "python3"
  },
  "language_info": {
   "codemirror_mode": {
    "name": "ipython",
    "version": 3
   },
   "file_extension": ".py",
   "mimetype": "text/x-python",
   "name": "python",
   "nbconvert_exporter": "python",
   "pygments_lexer": "ipython3",
   "version": "3.6.10"
  }
 },
 "nbformat": 4,
 "nbformat_minor": 4
}
